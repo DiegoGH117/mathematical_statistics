{
 "cells": [
  {
   "cell_type": "code",
   "execution_count": 1,
   "metadata": {},
   "outputs": [],
   "source": [
    "import numpy as np\n",
    "import matplotlib.pyplot as plt\n",
    "import pandas as pd\n",
    "import os\n"
   ]
  },
  {
   "cell_type": "code",
   "execution_count": 2,
   "metadata": {},
   "outputs": [],
   "source": [
    "data_directory = 'data'\n",
    "\n",
    "def loadData(data_directory, filename):\n",
    "    data_pd = pd.read_csv(os.path.join(data_directory,filename))\n",
    "    return data_pd"
   ]
  },
  {
   "cell_type": "code",
   "execution_count": 3,
   "metadata": {},
   "outputs": [],
   "source": [
    "job_sat = loadData(data_directory, 'job_satisfaction.csv')"
   ]
  },
  {
   "cell_type": "code",
   "execution_count": 4,
   "metadata": {},
   "outputs": [
    {
     "data": {
      "text/html": [
       "<div>\n",
       "<style scoped>\n",
       "    .dataframe tbody tr th:only-of-type {\n",
       "        vertical-align: middle;\n",
       "    }\n",
       "\n",
       "    .dataframe tbody tr th {\n",
       "        vertical-align: top;\n",
       "    }\n",
       "\n",
       "    .dataframe thead th {\n",
       "        text-align: right;\n",
       "    }\n",
       "</style>\n",
       "<table border=\"1\" class=\"dataframe\">\n",
       "  <thead>\n",
       "    <tr style=\"text-align: right;\">\n",
       "      <th></th>\n",
       "      <th>PERSONID</th>\n",
       "      <th>YEAR</th>\n",
       "      <th>WEIGHT</th>\n",
       "      <th>SAMPLE</th>\n",
       "      <th>SURID</th>\n",
       "      <th>GENDER</th>\n",
       "      <th>MINRTY</th>\n",
       "      <th>RACETH</th>\n",
       "      <th>JOBSATIS</th>\n",
       "    </tr>\n",
       "  </thead>\n",
       "  <tbody>\n",
       "    <tr>\n",
       "      <th>0</th>\n",
       "      <td>50000030000000003</td>\n",
       "      <td>2008</td>\n",
       "      <td>448.3050</td>\n",
       "      <td>801</td>\n",
       "      <td>1</td>\n",
       "      <td>1</td>\n",
       "      <td>0</td>\n",
       "      <td>2</td>\n",
       "      <td>2</td>\n",
       "    </tr>\n",
       "    <tr>\n",
       "      <th>1</th>\n",
       "      <td>50000030000000004</td>\n",
       "      <td>2008</td>\n",
       "      <td>413.7349</td>\n",
       "      <td>801</td>\n",
       "      <td>1</td>\n",
       "      <td>2</td>\n",
       "      <td>0</td>\n",
       "      <td>2</td>\n",
       "      <td>98</td>\n",
       "    </tr>\n",
       "    <tr>\n",
       "      <th>2</th>\n",
       "      <td>50000030000000005</td>\n",
       "      <td>2008</td>\n",
       "      <td>596.8539</td>\n",
       "      <td>801</td>\n",
       "      <td>1</td>\n",
       "      <td>1</td>\n",
       "      <td>0</td>\n",
       "      <td>2</td>\n",
       "      <td>98</td>\n",
       "    </tr>\n",
       "    <tr>\n",
       "      <th>3</th>\n",
       "      <td>50000030000000006</td>\n",
       "      <td>2008</td>\n",
       "      <td>152.0485</td>\n",
       "      <td>801</td>\n",
       "      <td>1</td>\n",
       "      <td>2</td>\n",
       "      <td>0</td>\n",
       "      <td>2</td>\n",
       "      <td>1</td>\n",
       "    </tr>\n",
       "    <tr>\n",
       "      <th>4</th>\n",
       "      <td>50000030000000104</td>\n",
       "      <td>2008</td>\n",
       "      <td>1071.0782</td>\n",
       "      <td>801</td>\n",
       "      <td>1</td>\n",
       "      <td>1</td>\n",
       "      <td>0</td>\n",
       "      <td>2</td>\n",
       "      <td>98</td>\n",
       "    </tr>\n",
       "    <tr>\n",
       "      <th>5</th>\n",
       "      <td>50000030000000105</td>\n",
       "      <td>2008</td>\n",
       "      <td>387.1170</td>\n",
       "      <td>801</td>\n",
       "      <td>1</td>\n",
       "      <td>2</td>\n",
       "      <td>0</td>\n",
       "      <td>2</td>\n",
       "      <td>3</td>\n",
       "    </tr>\n",
       "    <tr>\n",
       "      <th>6</th>\n",
       "      <td>50000030000000108</td>\n",
       "      <td>2008</td>\n",
       "      <td>254.0106</td>\n",
       "      <td>801</td>\n",
       "      <td>1</td>\n",
       "      <td>1</td>\n",
       "      <td>0</td>\n",
       "      <td>2</td>\n",
       "      <td>3</td>\n",
       "    </tr>\n",
       "    <tr>\n",
       "      <th>7</th>\n",
       "      <td>50000030000000109</td>\n",
       "      <td>2008</td>\n",
       "      <td>116.6477</td>\n",
       "      <td>801</td>\n",
       "      <td>1</td>\n",
       "      <td>2</td>\n",
       "      <td>0</td>\n",
       "      <td>2</td>\n",
       "      <td>98</td>\n",
       "    </tr>\n",
       "    <tr>\n",
       "      <th>8</th>\n",
       "      <td>50000030000000207</td>\n",
       "      <td>2008</td>\n",
       "      <td>141.4258</td>\n",
       "      <td>801</td>\n",
       "      <td>1</td>\n",
       "      <td>2</td>\n",
       "      <td>0</td>\n",
       "      <td>2</td>\n",
       "      <td>1</td>\n",
       "    </tr>\n",
       "    <tr>\n",
       "      <th>9</th>\n",
       "      <td>50000030000000303</td>\n",
       "      <td>2008</td>\n",
       "      <td>117.0577</td>\n",
       "      <td>801</td>\n",
       "      <td>1</td>\n",
       "      <td>1</td>\n",
       "      <td>0</td>\n",
       "      <td>2</td>\n",
       "      <td>1</td>\n",
       "    </tr>\n",
       "  </tbody>\n",
       "</table>\n",
       "</div>"
      ],
      "text/plain": [
       "            PERSONID  YEAR     WEIGHT  SAMPLE  SURID  GENDER  MINRTY  RACETH  \\\n",
       "0  50000030000000003  2008   448.3050     801      1       1       0       2   \n",
       "1  50000030000000004  2008   413.7349     801      1       2       0       2   \n",
       "2  50000030000000005  2008   596.8539     801      1       1       0       2   \n",
       "3  50000030000000006  2008   152.0485     801      1       2       0       2   \n",
       "4  50000030000000104  2008  1071.0782     801      1       1       0       2   \n",
       "5  50000030000000105  2008   387.1170     801      1       2       0       2   \n",
       "6  50000030000000108  2008   254.0106     801      1       1       0       2   \n",
       "7  50000030000000109  2008   116.6477     801      1       2       0       2   \n",
       "8  50000030000000207  2008   141.4258     801      1       2       0       2   \n",
       "9  50000030000000303  2008   117.0577     801      1       1       0       2   \n",
       "\n",
       "   JOBSATIS  \n",
       "0         2  \n",
       "1        98  \n",
       "2        98  \n",
       "3         1  \n",
       "4        98  \n",
       "5         3  \n",
       "6         3  \n",
       "7        98  \n",
       "8         1  \n",
       "9         1  "
      ]
     },
     "execution_count": 4,
     "metadata": {},
     "output_type": "execute_result"
    }
   ],
   "source": [
    "job_sat.head(10)"
   ]
  },
  {
   "cell_type": "code",
   "execution_count": 5,
   "metadata": {},
   "outputs": [
    {
     "name": "stdout",
     "output_type": "stream",
     "text": [
      "<class 'pandas.core.frame.DataFrame'>\n",
      "RangeIndex: 323802 entries, 0 to 323801\n",
      "Data columns (total 9 columns):\n",
      " #   Column    Non-Null Count   Dtype  \n",
      "---  ------    --------------   -----  \n",
      " 0   PERSONID  323802 non-null  int64  \n",
      " 1   YEAR      323802 non-null  int64  \n",
      " 2   WEIGHT    323802 non-null  float64\n",
      " 3   SAMPLE    323802 non-null  int64  \n",
      " 4   SURID     323802 non-null  int64  \n",
      " 5   GENDER    323802 non-null  int64  \n",
      " 6   MINRTY    323802 non-null  int64  \n",
      " 7   RACETH    323802 non-null  int64  \n",
      " 8   JOBSATIS  323802 non-null  int64  \n",
      "dtypes: float64(1), int64(8)\n",
      "memory usage: 22.2 MB\n"
     ]
    }
   ],
   "source": [
    "job_sat.info()"
   ]
  },
  {
   "cell_type": "code",
   "execution_count": 6,
   "metadata": {},
   "outputs": [
    {
     "data": {
      "text/plain": [
       "1     130480\n",
       "2     116543\n",
       "98     50078\n",
       "3      20769\n",
       "4       5932\n",
       "Name: JOBSATIS, dtype: int64"
      ]
     },
     "execution_count": 6,
     "metadata": {},
     "output_type": "execute_result"
    }
   ],
   "source": [
    "job_sat['JOBSATIS'].value_counts()"
   ]
  },
  {
   "cell_type": "markdown",
   "metadata": {},
   "source": [
    "## First filter\n",
    "\n",
    "Since job satisfaction is our target variable, the entires with it equal to 98 ('logical skip') are of not use for us. Thus, the first step is to filter those rows out."
   ]
  },
  {
   "cell_type": "code",
   "execution_count": 7,
   "metadata": {},
   "outputs": [
    {
     "data": {
      "text/plain": [
       "1    130480\n",
       "2    116543\n",
       "3     20769\n",
       "4      5932\n",
       "Name: JOBSATIS, dtype: int64"
      ]
     },
     "execution_count": 7,
     "metadata": {},
     "output_type": "execute_result"
    }
   ],
   "source": [
    "job_sat = job_sat[job_sat['JOBSATIS'] != 98]\n",
    "job_sat['JOBSATIS'].value_counts()"
   ]
  },
  {
   "cell_type": "code",
   "execution_count": 8,
   "metadata": {},
   "outputs": [
    {
     "data": {
      "text/plain": [
       "2    171102\n",
       "3     56993\n",
       "1     45629\n",
       "Name: RACETH, dtype: int64"
      ]
     },
     "execution_count": 8,
     "metadata": {},
     "output_type": "execute_result"
    }
   ],
   "source": [
    "job_sat['RACETH'].value_counts()"
   ]
  },
  {
   "cell_type": "code",
   "execution_count": 9,
   "metadata": {},
   "outputs": [
    {
     "data": {
      "text/plain": [
       "2    161197\n",
       "1    112527\n",
       "Name: GENDER, dtype: int64"
      ]
     },
     "execution_count": 9,
     "metadata": {},
     "output_type": "execute_result"
    }
   ],
   "source": [
    "job_sat['GENDER'].value_counts()"
   ]
  },
  {
   "cell_type": "code",
   "execution_count": 10,
   "metadata": {},
   "outputs": [
    {
     "data": {
      "text/plain": [
       "0    216731\n",
       "1     56993\n",
       "Name: MINRTY, dtype: int64"
      ]
     },
     "execution_count": 10,
     "metadata": {},
     "output_type": "execute_result"
    }
   ],
   "source": [
    "job_sat['MINRTY'].value_counts()"
   ]
  },
  {
   "cell_type": "code",
   "execution_count": 11,
   "metadata": {},
   "outputs": [
    {
     "data": {
      "text/plain": [
       "array([[<AxesSubplot:title={'center':'PERSONID'}>,\n",
       "        <AxesSubplot:title={'center':'YEAR'}>,\n",
       "        <AxesSubplot:title={'center':'WEIGHT'}>],\n",
       "       [<AxesSubplot:title={'center':'SAMPLE'}>,\n",
       "        <AxesSubplot:title={'center':'SURID'}>,\n",
       "        <AxesSubplot:title={'center':'GENDER'}>],\n",
       "       [<AxesSubplot:title={'center':'MINRTY'}>,\n",
       "        <AxesSubplot:title={'center':'RACETH'}>,\n",
       "        <AxesSubplot:title={'center':'JOBSATIS'}>]], dtype=object)"
      ]
     },
     "execution_count": 11,
     "metadata": {},
     "output_type": "execute_result"
    },
    {
     "data": {
      "image/png": "[encoded data removed]",
      "text/plain": [
       "<Figure size 1440x1440 with 9 Axes>"
      ]
     },
     "metadata": {
      "needs_background": "light"
     },
     "output_type": "display_data"
    }
   ],
   "source": [
    "job_sat.hist(figsize=(20,20))"
   ]
  },
  {
   "cell_type": "markdown",
   "metadata": {},
   "source": [
    "## Lets define a few things\n",
    "Make a new variable being RJOBSATIS, which refers to a \"rough job satisfaction\". If someone has a JOBSATIS equal to 1 or 2, then RJOBSATIS is equal to 1, meaning that the person has an overall positive job satisfaction. On the other hand, if someone has a JOBSATIS equal to 3 or 4, then RJOBSATIS is equal to 0, meaning that the individual has an overall negative experience at their job."
   ]
  },
  {
   "cell_type": "code",
   "execution_count": 12,
   "metadata": {},
   "outputs": [
    {
     "data": {
      "text/plain": [
       "0"
      ]
     },
     "execution_count": 12,
     "metadata": {},
     "output_type": "execute_result"
    }
   ],
   "source": [
    "halo = 4\n",
    "\n",
    "int(halo - 2 <= 0)"
   ]
  },
  {
   "cell_type": "code",
   "execution_count": 13,
   "metadata": {},
   "outputs": [],
   "source": [
    "job_sat['RJOBSATIS'] = ((job_sat['JOBSATIS'] - 2) <= 0).astype('int64')"
   ]
  },
  {
   "cell_type": "code",
   "execution_count": 14,
   "metadata": {},
   "outputs": [
    {
     "data": {
      "text/html": [
       "<div>\n",
       "<style scoped>\n",
       "    .dataframe tbody tr th:only-of-type {\n",
       "        vertical-align: middle;\n",
       "    }\n",
       "\n",
       "    .dataframe tbody tr th {\n",
       "        vertical-align: top;\n",
       "    }\n",
       "\n",
       "    .dataframe thead th {\n",
       "        text-align: right;\n",
       "    }\n",
       "</style>\n",
       "<table border=\"1\" class=\"dataframe\">\n",
       "  <thead>\n",
       "    <tr style=\"text-align: right;\">\n",
       "      <th></th>\n",
       "      <th>PERSONID</th>\n",
       "      <th>YEAR</th>\n",
       "      <th>WEIGHT</th>\n",
       "      <th>SAMPLE</th>\n",
       "      <th>SURID</th>\n",
       "      <th>GENDER</th>\n",
       "      <th>MINRTY</th>\n",
       "      <th>RACETH</th>\n",
       "      <th>JOBSATIS</th>\n",
       "      <th>RJOBSATIS</th>\n",
       "    </tr>\n",
       "  </thead>\n",
       "  <tbody>\n",
       "    <tr>\n",
       "      <th>0</th>\n",
       "      <td>50000030000000003</td>\n",
       "      <td>2008</td>\n",
       "      <td>448.3050</td>\n",
       "      <td>801</td>\n",
       "      <td>1</td>\n",
       "      <td>1</td>\n",
       "      <td>0</td>\n",
       "      <td>2</td>\n",
       "      <td>2</td>\n",
       "      <td>1</td>\n",
       "    </tr>\n",
       "    <tr>\n",
       "      <th>3</th>\n",
       "      <td>50000030000000006</td>\n",
       "      <td>2008</td>\n",
       "      <td>152.0485</td>\n",
       "      <td>801</td>\n",
       "      <td>1</td>\n",
       "      <td>2</td>\n",
       "      <td>0</td>\n",
       "      <td>2</td>\n",
       "      <td>1</td>\n",
       "      <td>1</td>\n",
       "    </tr>\n",
       "    <tr>\n",
       "      <th>5</th>\n",
       "      <td>50000030000000105</td>\n",
       "      <td>2008</td>\n",
       "      <td>387.1170</td>\n",
       "      <td>801</td>\n",
       "      <td>1</td>\n",
       "      <td>2</td>\n",
       "      <td>0</td>\n",
       "      <td>2</td>\n",
       "      <td>3</td>\n",
       "      <td>0</td>\n",
       "    </tr>\n",
       "    <tr>\n",
       "      <th>6</th>\n",
       "      <td>50000030000000108</td>\n",
       "      <td>2008</td>\n",
       "      <td>254.0106</td>\n",
       "      <td>801</td>\n",
       "      <td>1</td>\n",
       "      <td>1</td>\n",
       "      <td>0</td>\n",
       "      <td>2</td>\n",
       "      <td>3</td>\n",
       "      <td>0</td>\n",
       "    </tr>\n",
       "    <tr>\n",
       "      <th>8</th>\n",
       "      <td>50000030000000207</td>\n",
       "      <td>2008</td>\n",
       "      <td>141.4258</td>\n",
       "      <td>801</td>\n",
       "      <td>1</td>\n",
       "      <td>2</td>\n",
       "      <td>0</td>\n",
       "      <td>2</td>\n",
       "      <td>1</td>\n",
       "      <td>1</td>\n",
       "    </tr>\n",
       "    <tr>\n",
       "      <th>9</th>\n",
       "      <td>50000030000000303</td>\n",
       "      <td>2008</td>\n",
       "      <td>117.0577</td>\n",
       "      <td>801</td>\n",
       "      <td>1</td>\n",
       "      <td>1</td>\n",
       "      <td>0</td>\n",
       "      <td>2</td>\n",
       "      <td>1</td>\n",
       "      <td>1</td>\n",
       "    </tr>\n",
       "    <tr>\n",
       "      <th>10</th>\n",
       "      <td>50000030000000305</td>\n",
       "      <td>2008</td>\n",
       "      <td>696.8398</td>\n",
       "      <td>801</td>\n",
       "      <td>1</td>\n",
       "      <td>1</td>\n",
       "      <td>0</td>\n",
       "      <td>2</td>\n",
       "      <td>2</td>\n",
       "      <td>1</td>\n",
       "    </tr>\n",
       "    <tr>\n",
       "      <th>11</th>\n",
       "      <td>50000030000000308</td>\n",
       "      <td>2008</td>\n",
       "      <td>581.3200</td>\n",
       "      <td>801</td>\n",
       "      <td>1</td>\n",
       "      <td>2</td>\n",
       "      <td>0</td>\n",
       "      <td>2</td>\n",
       "      <td>1</td>\n",
       "      <td>1</td>\n",
       "    </tr>\n",
       "    <tr>\n",
       "      <th>12</th>\n",
       "      <td>50000030000000402</td>\n",
       "      <td>2008</td>\n",
       "      <td>267.8616</td>\n",
       "      <td>801</td>\n",
       "      <td>1</td>\n",
       "      <td>1</td>\n",
       "      <td>0</td>\n",
       "      <td>2</td>\n",
       "      <td>4</td>\n",
       "      <td>0</td>\n",
       "    </tr>\n",
       "    <tr>\n",
       "      <th>13</th>\n",
       "      <td>50000030000000406</td>\n",
       "      <td>2008</td>\n",
       "      <td>137.4780</td>\n",
       "      <td>801</td>\n",
       "      <td>1</td>\n",
       "      <td>1</td>\n",
       "      <td>0</td>\n",
       "      <td>2</td>\n",
       "      <td>1</td>\n",
       "      <td>1</td>\n",
       "    </tr>\n",
       "  </tbody>\n",
       "</table>\n",
       "</div>"
      ],
      "text/plain": [
       "             PERSONID  YEAR    WEIGHT  SAMPLE  SURID  GENDER  MINRTY  RACETH  \\\n",
       "0   50000030000000003  2008  448.3050     801      1       1       0       2   \n",
       "3   50000030000000006  2008  152.0485     801      1       2       0       2   \n",
       "5   50000030000000105  2008  387.1170     801      1       2       0       2   \n",
       "6   50000030000000108  2008  254.0106     801      1       1       0       2   \n",
       "8   50000030000000207  2008  141.4258     801      1       2       0       2   \n",
       "9   50000030000000303  2008  117.0577     801      1       1       0       2   \n",
       "10  50000030000000305  2008  696.8398     801      1       1       0       2   \n",
       "11  50000030000000308  2008  581.3200     801      1       2       0       2   \n",
       "12  50000030000000402  2008  267.8616     801      1       1       0       2   \n",
       "13  50000030000000406  2008  137.4780     801      1       1       0       2   \n",
       "\n",
       "    JOBSATIS  RJOBSATIS  \n",
       "0          2          1  \n",
       "3          1          1  \n",
       "5          3          0  \n",
       "6          3          0  \n",
       "8          1          1  \n",
       "9          1          1  \n",
       "10         2          1  \n",
       "11         1          1  \n",
       "12         4          0  \n",
       "13         1          1  "
      ]
     },
     "execution_count": 14,
     "metadata": {},
     "output_type": "execute_result"
    }
   ],
   "source": [
    "job_sat.head(10)"
   ]
  },
  {
   "cell_type": "code",
   "execution_count": 15,
   "metadata": {},
   "outputs": [
    {
     "data": {
      "text/plain": [
       "(273724,)"
      ]
     },
     "execution_count": 15,
     "metadata": {},
     "output_type": "execute_result"
    }
   ],
   "source": [
    "job_sat['RJOBSATIS'].shape"
   ]
  },
  {
   "cell_type": "code",
   "execution_count": 16,
   "metadata": {},
   "outputs": [],
   "source": [
    "total_sample_size = job_sat['RJOBSATIS'].shape[0]\n",
    "total_satisfied = np.sum(job_sat['RJOBSATIS'].values)"
   ]
  },
  {
   "cell_type": "code",
   "execution_count": 17,
   "metadata": {},
   "outputs": [],
   "source": [
    "def printProbabilities(total_satisfied, sample_size, title):\n",
    "    satisfied_probability = total_satisfied/sample_size\n",
    "    unsatisfied_probability = 1 - satisfied_probability\n",
    "    print()\n",
    "    print(f\"SHORT REPORT: {title}\")\n",
    "    print(f\"The sample size is equal to: {sample_size}\")\n",
    "    print(f\"The number of satisfied people is equal to: {total_satisfied}\")\n",
    "    print()\n",
    "    print(f\"PROBABILITIES ========================================\")\n",
    "    print(f\"The probability of 'satisfied' is equal to: {satisfied_probability}\")\n",
    "    print(f\"The probability of 'unsatisfied' is equal to: {unsatisfied_probability}\")\n",
    "    print()"
   ]
  },
  {
   "cell_type": "code",
   "execution_count": 18,
   "metadata": {},
   "outputs": [
    {
     "name": "stdout",
     "output_type": "stream",
     "text": [
      "\n",
      "SHORT REPORT: ENTIRE SAMPLE\n",
      "The sample size is equal to: 273724\n",
      "The number of satisfied people is equal to: 247023\n",
      "\n",
      "PROBABILITIES ========================================\n",
      "The probability of 'satisfied' is equal to: 0.902452835703117\n",
      "The probability of 'unsatisfied' is equal to: 0.09754716429688304\n",
      "\n"
     ]
    }
   ],
   "source": [
    "printProbabilities(total_satisfied, total_sample_size, 'ENTIRE SAMPLE')"
   ]
  },
  {
   "cell_type": "markdown",
   "metadata": {},
   "source": [
    "## Now, we can start exploring!\n",
    "\n",
    "The result above gives us a baseline to explore the level of inequality (if there is any) observed in job satisfaction. There is a few things that we can explore, and the fisrt one is to see if there are any inequalities when taking into account the gender."
   ]
  },
  {
   "cell_type": "markdown",
   "metadata": {},
   "source": [
    "## Difference between genders"
   ]
  },
  {
   "cell_type": "code",
   "execution_count": 19,
   "metadata": {},
   "outputs": [
    {
     "name": "stdout",
     "output_type": "stream",
     "text": [
      "<class 'pandas.core.frame.DataFrame'>\n",
      "Int64Index: 161197 entries, 3 to 323796\n",
      "Data columns (total 10 columns):\n",
      " #   Column     Non-Null Count   Dtype  \n",
      "---  ------     --------------   -----  \n",
      " 0   PERSONID   161197 non-null  int64  \n",
      " 1   YEAR       161197 non-null  int64  \n",
      " 2   WEIGHT     161197 non-null  float64\n",
      " 3   SAMPLE     161197 non-null  int64  \n",
      " 4   SURID      161197 non-null  int64  \n",
      " 5   GENDER     161197 non-null  int64  \n",
      " 6   MINRTY     161197 non-null  int64  \n",
      " 7   RACETH     161197 non-null  int64  \n",
      " 8   JOBSATIS   161197 non-null  int64  \n",
      " 9   RJOBSATIS  161197 non-null  int64  \n",
      "dtypes: float64(1), int64(9)\n",
      "memory usage: 13.5 MB\n"
     ]
    }
   ],
   "source": [
    "job_sat_male = job_sat[job_sat['GENDER'] == 2]\n",
    "job_sat_male.info()"
   ]
  },
  {
   "cell_type": "code",
   "execution_count": 20,
   "metadata": {},
   "outputs": [
    {
     "name": "stdout",
     "output_type": "stream",
     "text": [
      "<class 'pandas.core.frame.DataFrame'>\n",
      "Int64Index: 112527 entries, 0 to 323801\n",
      "Data columns (total 10 columns):\n",
      " #   Column     Non-Null Count   Dtype  \n",
      "---  ------     --------------   -----  \n",
      " 0   PERSONID   112527 non-null  int64  \n",
      " 1   YEAR       112527 non-null  int64  \n",
      " 2   WEIGHT     112527 non-null  float64\n",
      " 3   SAMPLE     112527 non-null  int64  \n",
      " 4   SURID      112527 non-null  int64  \n",
      " 5   GENDER     112527 non-null  int64  \n",
      " 6   MINRTY     112527 non-null  int64  \n",
      " 7   RACETH     112527 non-null  int64  \n",
      " 8   JOBSATIS   112527 non-null  int64  \n",
      " 9   RJOBSATIS  112527 non-null  int64  \n",
      "dtypes: float64(1), int64(9)\n",
      "memory usage: 9.4 MB\n"
     ]
    }
   ],
   "source": [
    "job_sat_female = job_sat[job_sat['GENDER'] == 1]\n",
    "job_sat_female.info()"
   ]
  },
  {
   "cell_type": "markdown",
   "metadata": {},
   "source": [
    "## Calculate probabilities\n",
    "Do the same thing as before, but now for the different datasets."
   ]
  },
  {
   "cell_type": "code",
   "execution_count": 21,
   "metadata": {},
   "outputs": [
    {
     "name": "stdout",
     "output_type": "stream",
     "text": [
      "\n",
      "SHORT REPORT: MALE\n",
      "The sample size is equal to: 161197\n",
      "The number of satisfied people is equal to: 146419\n",
      "\n",
      "PROBABILITIES ========================================\n",
      "The probability of 'satisfied' is equal to: 0.9083233558937202\n",
      "The probability of 'unsatisfied' is equal to: 0.09167664410627985\n",
      "\n"
     ]
    }
   ],
   "source": [
    "male_sample_size = job_sat_male['RJOBSATIS'].shape[0]\n",
    "male_satisfied = np.sum(job_sat_male['RJOBSATIS'].values)\n",
    "printProbabilities(male_satisfied, male_sample_size, 'MALE')"
   ]
  },
  {
   "cell_type": "code",
   "execution_count": 22,
   "metadata": {},
   "outputs": [
    {
     "name": "stdout",
     "output_type": "stream",
     "text": [
      "\n",
      "SHORT REPORT: FEMALE\n",
      "The sample size is equal to: 112527\n",
      "The number of satisfied people is equal to: 100604\n",
      "\n",
      "PROBABILITIES ========================================\n",
      "The probability of 'satisfied' is equal to: 0.8940432074079998\n",
      "The probability of 'unsatisfied' is equal to: 0.10595679259200019\n",
      "\n"
     ]
    }
   ],
   "source": [
    "female_sample_size = job_sat_female['RJOBSATIS'].shape[0]\n",
    "female_satisfied = np.sum(job_sat_female['RJOBSATIS'].values)\n",
    "printProbabilities(female_satisfied, female_sample_size, 'FEMALE')"
   ]
  },
  {
   "cell_type": "markdown",
   "metadata": {},
   "source": [
    "## Difference between minority\n",
    "Now let us explore if there is any difference between people who identify themselves as part of a minority and those who doesn't."
   ]
  },
  {
   "cell_type": "code",
   "execution_count": 23,
   "metadata": {},
   "outputs": [
    {
     "name": "stdout",
     "output_type": "stream",
     "text": [
      "<class 'pandas.core.frame.DataFrame'>\n",
      "Int64Index: 56993 entries, 31 to 323800\n",
      "Data columns (total 10 columns):\n",
      " #   Column     Non-Null Count  Dtype  \n",
      "---  ------     --------------  -----  \n",
      " 0   PERSONID   56993 non-null  int64  \n",
      " 1   YEAR       56993 non-null  int64  \n",
      " 2   WEIGHT     56993 non-null  float64\n",
      " 3   SAMPLE     56993 non-null  int64  \n",
      " 4   SURID      56993 non-null  int64  \n",
      " 5   GENDER     56993 non-null  int64  \n",
      " 6   MINRTY     56993 non-null  int64  \n",
      " 7   RACETH     56993 non-null  int64  \n",
      " 8   JOBSATIS   56993 non-null  int64  \n",
      " 9   RJOBSATIS  56993 non-null  int64  \n",
      "dtypes: float64(1), int64(9)\n",
      "memory usage: 4.8 MB\n"
     ]
    }
   ],
   "source": [
    "job_sat_minority = job_sat[job_sat['MINRTY'] == 1]\n",
    "job_sat_minority.info()"
   ]
  },
  {
   "cell_type": "code",
   "execution_count": 24,
   "metadata": {},
   "outputs": [
    {
     "name": "stdout",
     "output_type": "stream",
     "text": [
      "<class 'pandas.core.frame.DataFrame'>\n",
      "Int64Index: 216731 entries, 0 to 323801\n",
      "Data columns (total 10 columns):\n",
      " #   Column     Non-Null Count   Dtype  \n",
      "---  ------     --------------   -----  \n",
      " 0   PERSONID   216731 non-null  int64  \n",
      " 1   YEAR       216731 non-null  int64  \n",
      " 2   WEIGHT     216731 non-null  float64\n",
      " 3   SAMPLE     216731 non-null  int64  \n",
      " 4   SURID      216731 non-null  int64  \n",
      " 5   GENDER     216731 non-null  int64  \n",
      " 6   MINRTY     216731 non-null  int64  \n",
      " 7   RACETH     216731 non-null  int64  \n",
      " 8   JOBSATIS   216731 non-null  int64  \n",
      " 9   RJOBSATIS  216731 non-null  int64  \n",
      "dtypes: float64(1), int64(9)\n",
      "memory usage: 18.2 MB\n"
     ]
    }
   ],
   "source": [
    "job_sat_notminority = job_sat[job_sat['MINRTY'] == 0]\n",
    "job_sat_notminority.info()"
   ]
  },
  {
   "cell_type": "code",
   "execution_count": 26,
   "metadata": {},
   "outputs": [
    {
     "name": "stdout",
     "output_type": "stream",
     "text": [
      "\n",
      "SHORT REPORT: NOT MINORITY\n",
      "The sample size is equal to: 216731\n",
      "The number of satisfied people is equal to: 196717\n",
      "\n",
      "PROBABILITIES ========================================\n",
      "The probability of 'satisfied' is equal to: 0.9076551116360835\n",
      "The probability of 'unsatisfied' is equal to: 0.09234488836391652\n",
      "\n"
     ]
    }
   ],
   "source": [
    "notminority_sample_size = job_sat_notminority['RJOBSATIS'].shape[0]\n",
    "notminority_satisfied = np.sum(job_sat_notminority['RJOBSATIS'].values)\n",
    "printProbabilities(notminority_satisfied, notminority_sample_size, 'NOT MINORITY')"
   ]
  },
  {
   "cell_type": "code",
   "execution_count": 27,
   "metadata": {},
   "outputs": [
    {
     "name": "stdout",
     "output_type": "stream",
     "text": [
      "\n",
      "SHORT REPORT: MINORITY\n",
      "The sample size is equal to: 56993\n",
      "The number of satisfied people is equal to: 50306\n",
      "\n",
      "PROBABILITIES ========================================\n",
      "The probability of 'satisfied' is equal to: 0.8826698015545769\n",
      "The probability of 'unsatisfied' is equal to: 0.11733019844542314\n",
      "\n"
     ]
    }
   ],
   "source": [
    "minority_sample_size = job_sat_minority['RJOBSATIS'].shape[0]\n",
    "minority_satisfied = np.sum(job_sat_minority['RJOBSATIS'].values)\n",
    "printProbabilities(minority_satisfied, minority_sample_size, 'MINORITY')"
   ]
  },
  {
   "cell_type": "markdown",
   "metadata": {},
   "source": [
    "## Race, try Asian vs White vs Minorities using RACETH\n",
    "Same thing, create three new datasets"
   ]
  },
  {
   "cell_type": "code",
   "execution_count": 29,
   "metadata": {},
   "outputs": [
    {
     "name": "stdout",
     "output_type": "stream",
     "text": [
      "<class 'pandas.core.frame.DataFrame'>\n",
      "Int64Index: 171102 entries, 0 to 323801\n",
      "Data columns (total 10 columns):\n",
      " #   Column     Non-Null Count   Dtype  \n",
      "---  ------     --------------   -----  \n",
      " 0   PERSONID   171102 non-null  int64  \n",
      " 1   YEAR       171102 non-null  int64  \n",
      " 2   WEIGHT     171102 non-null  float64\n",
      " 3   SAMPLE     171102 non-null  int64  \n",
      " 4   SURID      171102 non-null  int64  \n",
      " 5   GENDER     171102 non-null  int64  \n",
      " 6   MINRTY     171102 non-null  int64  \n",
      " 7   RACETH     171102 non-null  int64  \n",
      " 8   JOBSATIS   171102 non-null  int64  \n",
      " 9   RJOBSATIS  171102 non-null  int64  \n",
      "dtypes: float64(1), int64(9)\n",
      "memory usage: 14.4 MB\n"
     ]
    }
   ],
   "source": [
    "job_sat_white = job_sat[job_sat['RACETH'] == 2]\n",
    "job_sat_white.info()\n"
   ]
  },
  {
   "cell_type": "code",
   "execution_count": 30,
   "metadata": {},
   "outputs": [
    {
     "name": "stdout",
     "output_type": "stream",
     "text": [
      "<class 'pandas.core.frame.DataFrame'>\n",
      "Int64Index: 45629 entries, 61 to 323798\n",
      "Data columns (total 10 columns):\n",
      " #   Column     Non-Null Count  Dtype  \n",
      "---  ------     --------------  -----  \n",
      " 0   PERSONID   45629 non-null  int64  \n",
      " 1   YEAR       45629 non-null  int64  \n",
      " 2   WEIGHT     45629 non-null  float64\n",
      " 3   SAMPLE     45629 non-null  int64  \n",
      " 4   SURID      45629 non-null  int64  \n",
      " 5   GENDER     45629 non-null  int64  \n",
      " 6   MINRTY     45629 non-null  int64  \n",
      " 7   RACETH     45629 non-null  int64  \n",
      " 8   JOBSATIS   45629 non-null  int64  \n",
      " 9   RJOBSATIS  45629 non-null  int64  \n",
      "dtypes: float64(1), int64(9)\n",
      "memory usage: 3.8 MB\n"
     ]
    }
   ],
   "source": [
    "job_sat_asian = job_sat[job_sat['RACETH'] == 1]\n",
    "job_sat_asian.info()"
   ]
  },
  {
   "cell_type": "code",
   "execution_count": 31,
   "metadata": {},
   "outputs": [
    {
     "name": "stdout",
     "output_type": "stream",
     "text": [
      "<class 'pandas.core.frame.DataFrame'>\n",
      "Int64Index: 56993 entries, 31 to 323800\n",
      "Data columns (total 10 columns):\n",
      " #   Column     Non-Null Count  Dtype  \n",
      "---  ------     --------------  -----  \n",
      " 0   PERSONID   56993 non-null  int64  \n",
      " 1   YEAR       56993 non-null  int64  \n",
      " 2   WEIGHT     56993 non-null  float64\n",
      " 3   SAMPLE     56993 non-null  int64  \n",
      " 4   SURID      56993 non-null  int64  \n",
      " 5   GENDER     56993 non-null  int64  \n",
      " 6   MINRTY     56993 non-null  int64  \n",
      " 7   RACETH     56993 non-null  int64  \n",
      " 8   JOBSATIS   56993 non-null  int64  \n",
      " 9   RJOBSATIS  56993 non-null  int64  \n",
      "dtypes: float64(1), int64(9)\n",
      "memory usage: 4.8 MB\n"
     ]
    }
   ],
   "source": [
    "job_sat_minorityRACETH = job_sat[job_sat['RACETH'] == 3]\n",
    "job_sat_minorityRACETH.info()"
   ]
  },
  {
   "cell_type": "code",
   "execution_count": 32,
   "metadata": {},
   "outputs": [
    {
     "name": "stdout",
     "output_type": "stream",
     "text": [
      "\n",
      "SHORT REPORT: WHITE\n",
      "The sample size is equal to: 171102\n",
      "The number of satisfied people is equal to: 155760\n",
      "\n",
      "PROBABILITIES ========================================\n",
      "The probability of 'satisfied' is equal to: 0.9103341866255216\n",
      "The probability of 'unsatisfied' is equal to: 0.08966581337447843\n",
      "\n"
     ]
    }
   ],
   "source": [
    "white_sample_size = job_sat_white['RJOBSATIS'].shape[0]\n",
    "white_satisfied = np.sum(job_sat_white['RJOBSATIS'].values)\n",
    "printProbabilities(white_satisfied, white_sample_size, 'WHITE')"
   ]
  },
  {
   "cell_type": "code",
   "execution_count": 36,
   "metadata": {},
   "outputs": [
    {
     "name": "stdout",
     "output_type": "stream",
     "text": [
      "\n",
      "SHORT REPORT: ASIAN\n",
      "The sample size is equal to: 45629\n",
      "The number of satisfied people is equal to: 40957\n",
      "\n",
      "PROBABILITIES ========================================\n",
      "The probability of 'satisfied' is equal to: 0.897608976747244\n",
      "The probability of 'unsatisfied' is equal to: 0.10239102325275595\n",
      "\n"
     ]
    }
   ],
   "source": [
    "asian_sample_size = job_sat_asian['RJOBSATIS'].shape[0]\n",
    "asian_satisfied = np.sum(job_sat_asian['RJOBSATIS'].values)\n",
    "printProbabilities(asian_satisfied, asian_sample_size, 'ASIAN')"
   ]
  },
  {
   "cell_type": "code",
   "execution_count": 35,
   "metadata": {},
   "outputs": [
    {
     "name": "stdout",
     "output_type": "stream",
     "text": [
      "\n",
      "SHORT REPORT: MINORITY RACETH\n",
      "The sample size is equal to: 56993\n",
      "The number of satisfied people is equal to: 50306\n",
      "\n",
      "PROBABILITIES ========================================\n",
      "The probability of 'satisfied' is equal to: 0.8826698015545769\n",
      "The probability of 'unsatisfied' is equal to: 0.11733019844542314\n",
      "\n"
     ]
    }
   ],
   "source": [
    "minorityRACETH_sample_size = job_sat_minorityRACETH['RJOBSATIS'].shape[0]\n",
    "minorityRACETH_satisfied = np.sum(job_sat_minorityRACETH['RJOBSATIS'].values)\n",
    "printProbabilities(minorityRACETH_satisfied, minorityRACETH_sample_size, 'MINORITY RACETH')"
   ]
  },
  {
   "cell_type": "markdown",
   "metadata": {},
   "source": [
    "## Summary of Results:\n",
    "\n",
    "Here is a summary of the results"
   ]
  },
  {
   "cell_type": "code",
   "execution_count": 37,
   "metadata": {},
   "outputs": [
    {
     "name": "stdout",
     "output_type": "stream",
     "text": [
      "Information regarding the entire sample\n",
      "\n",
      "SHORT REPORT: ENTIRE SAMPLE\n",
      "The sample size is equal to: 273724\n",
      "The number of satisfied people is equal to: 247023\n",
      "\n",
      "PROBABILITIES ========================================\n",
      "The probability of 'satisfied' is equal to: 0.902452835703117\n",
      "The probability of 'unsatisfied' is equal to: 0.09754716429688304\n",
      "\n",
      "Comparison between genders\n",
      "\n",
      "SHORT REPORT: MALE\n",
      "The sample size is equal to: 161197\n",
      "The number of satisfied people is equal to: 146419\n",
      "\n",
      "PROBABILITIES ========================================\n",
      "The probability of 'satisfied' is equal to: 0.9083233558937202\n",
      "The probability of 'unsatisfied' is equal to: 0.09167664410627985\n",
      "\n",
      "\n",
      "SHORT REPORT: FEMALE\n",
      "The sample size is equal to: 112527\n",
      "The number of satisfied people is equal to: 100604\n",
      "\n",
      "PROBABILITIES ========================================\n",
      "The probability of 'satisfied' is equal to: 0.8940432074079998\n",
      "The probability of 'unsatisfied' is equal to: 0.10595679259200019\n",
      "\n",
      "Comparison between self identification of minority\n",
      "\n",
      "SHORT REPORT: NOT MINORITY\n",
      "The sample size is equal to: 216731\n",
      "The number of satisfied people is equal to: 196717\n",
      "\n",
      "PROBABILITIES ========================================\n",
      "The probability of 'satisfied' is equal to: 0.9076551116360835\n",
      "The probability of 'unsatisfied' is equal to: 0.09234488836391652\n",
      "\n",
      "\n",
      "SHORT REPORT: MINORITY\n",
      "The sample size is equal to: 56993\n",
      "The number of satisfied people is equal to: 50306\n",
      "\n",
      "PROBABILITIES ========================================\n",
      "The probability of 'satisfied' is equal to: 0.8826698015545769\n",
      "The probability of 'unsatisfied' is equal to: 0.11733019844542314\n",
      "\n",
      "Comparison between different races/ethnicities\n",
      "\n",
      "SHORT REPORT: WHITE\n",
      "The sample size is equal to: 171102\n",
      "The number of satisfied people is equal to: 155760\n",
      "\n",
      "PROBABILITIES ========================================\n",
      "The probability of 'satisfied' is equal to: 0.9103341866255216\n",
      "The probability of 'unsatisfied' is equal to: 0.08966581337447843\n",
      "\n",
      "\n",
      "SHORT REPORT: ASIAN\n",
      "The sample size is equal to: 45629\n",
      "The number of satisfied people is equal to: 40957\n",
      "\n",
      "PROBABILITIES ========================================\n",
      "The probability of 'satisfied' is equal to: 0.897608976747244\n",
      "The probability of 'unsatisfied' is equal to: 0.10239102325275595\n",
      "\n",
      "\n",
      "SHORT REPORT: MINORITY RACETH\n",
      "The sample size is equal to: 56993\n",
      "The number of satisfied people is equal to: 50306\n",
      "\n",
      "PROBABILITIES ========================================\n",
      "The probability of 'satisfied' is equal to: 0.8826698015545769\n",
      "The probability of 'unsatisfied' is equal to: 0.11733019844542314\n",
      "\n"
     ]
    }
   ],
   "source": [
    "print(f'Information regarding the entire sample')\n",
    "printProbabilities(total_satisfied, total_sample_size, 'ENTIRE SAMPLE')\n",
    "\n",
    "print(f'Comparison between genders')\n",
    "printProbabilities(male_satisfied, male_sample_size, 'MALE')\n",
    "printProbabilities(female_satisfied, female_sample_size, 'FEMALE')\n",
    "\n",
    "\n",
    "print(f'Comparison between self identification of minority')\n",
    "printProbabilities(notminority_satisfied, notminority_sample_size, 'NOT MINORITY')\n",
    "printProbabilities(minority_satisfied, minority_sample_size, 'MINORITY')\n",
    "\n",
    "print(f'Comparison between different races/ethnicities')\n",
    "printProbabilities(white_satisfied, white_sample_size, 'WHITE')\n",
    "printProbabilities(asian_satisfied, asian_sample_size, 'ASIAN')\n",
    "printProbabilities(minorityRACETH_satisfied, minorityRACETH_sample_size, 'MINORITY RACETH')"
   ]
  },
  {
   "cell_type": "markdown",
   "metadata": {},
   "source": [
    "## Possible conclusions\n",
    "As we can see, we can detect a subtle difference in job satisfaction. Overall, females and non-white people have a slightly less satisfaction at their jobs."
   ]
  },
  {
   "cell_type": "code",
   "execution_count": null,
   "metadata": {},
   "outputs": [],
   "source": []
  }
 ],
 "metadata": {
  "kernelspec": {
   "display_name": "Python 3",
   "language": "python",
   "name": "python3"
  },
  "language_info": {
   "codemirror_mode": {
    "name": "ipython",
    "version": 3
   },
   "file_extension": ".py",
   "mimetype": "text/x-python",
   "name": "python",
   "nbconvert_exporter": "python",
   "pygments_lexer": "ipython3",
   "version": "3.7.7"
  }
 },
 "nbformat": 4,
 "nbformat_minor": 4
}
